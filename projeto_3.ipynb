{
 "cells": [
  {
   "cell_type": "markdown",
   "id": "1ba2259c",
   "metadata": {},
   "source": [
    "# Projeto 3: Controle de Chaves 🔑 \n",
    "---\n",
    "## O Cenário 👨‍💼\n",
    "Você acabou de ser contratado por uma pequena empresa. O controle de quem está com cada chave das salas ainda é feito em um bloco de notas.\n",
    "\n",
    "Sua primeira tarefa é criar um script Python simples que resolva isso, utilizando SQLite.\n",
    "\n",
    "Seu chefe pediu o seguinte:\n",
    "\n",
    "    \"Crie um programa que guarde o nome do responsável e a sala correspondente. Por enquanto, só cadastre a Ana da 'Recepção', o Bruno do 'Financeiro' e a Carla do 'Depósito'. Depois, o programa precisa me dizer quem está com a chave do 'Depósito'.\""
   ]
  },
  {
   "cell_type": "code",
   "execution_count": null,
   "id": "560ad3bb",
   "metadata": {},
   "outputs": [],
   "source": [
    "# Seu código aqui:\n",
    "\n",
    "import sqlite3\n",
    "\n",
    "con = sqlite3.connect(\"controle_nomes.db\")\n",
    "cur = con.cursor()\n",
    "\n",
    "try:\n",
    "    #cur.execute(\"CREATE TABLE funcionario(id INTEGER PRIMARY KEY AUTOINCREMENT, nome VARCHAR(200))\")\n",
    "    '''\n",
    "    cur.execute(\"CREATE TABLE funçao(id INTEGER PRIMARY KEY AUTOINCREMENT, nome VARCHAR(100), id_funcionario INTEGER, FOREIGN KEY (id_funcionario) REFERENCES funcionario(id))\")\n",
    "    con.commit()\n",
    "\n",
    "    cur.execute(\"INSERT INTO funcionario (nome) VALUES('Ana')\")\n",
    "\n",
    "    cur.execute(\"INSERT INTO funçao (nome) VALUES('Recepçao')\")\n",
    "\n",
    "    cur.execute(\"INSERT INTO funcionario (nome) VALUES('Bruno')\")\n",
    "\n",
    "    cur.execute(\"INSERT INTO funçao (nome) VALUES('Financeiro')\")\n",
    "\n",
    "    cur.execute(\"INSERT INTO funcionario (nome) VALUES('Carla')\")\n",
    "\n",
    "    cur.execute(\"INSERT INTO funçao (nome) VALUES('Depósito')\")\n",
    "\n",
    "    con.commit()\n",
    "    '''\n",
    "    cur.execute(\"SELECT * FROM funcionario, funçao WHERE funcionario.id = %d\" % 3)\n",
    "\n",
    "    res = cur.fetchone()\n",
    "    print(res)\n",
    "    cur.close()\n",
    "    con.close()\n",
    "except ConnectionRefusedError as c:\n",
    "    print('Erro de Conexão:', c)\n",
    "    \n",
    "\n"
   ]
  }
 ],
 "metadata": {
  "kernelspec": {
   "display_name": ".venv",
   "language": "python",
   "name": "python3"
  },
  "language_info": {
   "name": "python",
   "version": "3.13.3"
  }
 },
 "nbformat": 4,
 "nbformat_minor": 5
}
