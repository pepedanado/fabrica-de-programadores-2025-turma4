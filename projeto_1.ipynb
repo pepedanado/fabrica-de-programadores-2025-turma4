{
 "cells": [
  {
   "cell_type": "markdown",
   "id": "10186619",
   "metadata": {},
   "source": [
    "# Projeto 1: Processamento de Vendas 🤑 \n",
    "---\n",
    "## O Cenário 😎\n",
    "Você foi contratado como desenvolvedor Python júnior pela empresa \"Varejo Total\" para ajudar a automatizar algumas de suas tarefas diárias. O departamento de vendas gera um relatório simples em um arquivo de texto, mas precisa de uma forma rápida de calcular o total de vendas do dia.\n",
    "\n",
    "O gerente de vendas, Sr. Silva, explicou o problema: \"Todos os dias, recebemos um arquivo chamado vendas_dia.txt. Cada linha nesse arquivo representa uma venda individual e contém o valor daquela venda. O problema é que, no final do dia, precisamos somar tudo manualmente, e isso está sujeito a erros. Precisamos de um script que leia esse arquivo e nos diga o total.\"\n",
    "\n",
    "Sua Missão: Criar um programa em Python que leia o arquivo vendas_dia.txt, some todos os valores contidos nele e exiba o total de vendas de forma clara no console."
   ]
  },
  {
   "cell_type": "code",
   "execution_count": 3,
   "id": "af6c1ffe",
   "metadata": {},
   "outputs": [],
   "source": [
    "# Seu código aqui:"
   ]
  }
 ],
 "metadata": {
  "kernelspec": {
   "display_name": "Python 3",
   "language": "python",
   "name": "python3"
  },
  "language_info": {
   "codemirror_mode": {
    "name": "ipython",
    "version": 3
   },
   "file_extension": ".py",
   "mimetype": "text/x-python",
   "name": "python",
   "nbconvert_exporter": "python",
   "pygments_lexer": "ipython3",
   "version": "3.13.3"
  }
 },
 "nbformat": 4,
 "nbformat_minor": 5
}
